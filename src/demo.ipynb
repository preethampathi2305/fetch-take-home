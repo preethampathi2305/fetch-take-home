{
 "cells": [
  {
   "cell_type": "code",
   "execution_count": 1,
   "metadata": {},
   "outputs": [],
   "source": [
    "import pandas as pd\n",
    "pd.set_option('display.max_colwidth', None)\n",
    "import numpy as np\n",
    "import re"
   ]
  },
  {
   "cell_type": "code",
   "execution_count": 1,
   "metadata": {},
   "outputs": [],
   "source": [
    "from transformers import AutoTokenizer, AutoModel\n",
    "import torch\n",
    "\n",
    "embedding_model_name = 'sentence-transformers/all-MiniLM-L6-v2'\n",
    "embedding_tokenizer = AutoTokenizer.from_pretrained(embedding_model_name)\n",
    "embedding_model = AutoModel.from_pretrained(embedding_model_name)"
   ]
  },
  {
   "cell_type": "code",
   "execution_count": null,
   "metadata": {},
   "outputs": [],
   "source": [
    "# save the models to model/\n",
    "embedding_tokenizer.save_pretrained('model/tokenizer/')\n",
    "embedding_model.save_pretrained('model/actual_model/')"
   ]
  },
  {
   "cell_type": "code",
   "execution_count": 3,
   "metadata": {},
   "outputs": [
    {
     "data": {
      "text/plain": [
       "(8521, 3)"
      ]
     },
     "execution_count": 3,
     "metadata": {},
     "output_type": "execute_result"
    }
   ],
   "source": [
    "brand_df = pd.read_csv('data/brand_category.csv')\n",
    "brand_df.dropna(inplace=True)\n",
    "\n",
    "# drop duplicate brand names. keep the brand with highest number of receipts\n",
    "brand_df = brand_df.sort_values(by=['BRAND', 'RECEIPTS'], ascending=False)\n",
    "brand_df.drop_duplicates(subset=['BRAND'], keep='first', inplace=True)\n",
    "\n",
    "brand_df.shape"
   ]
  },
  {
   "cell_type": "code",
   "execution_count": 20,
   "metadata": {},
   "outputs": [
    {
     "data": {
      "text/plain": [
       "Index(['BRAND', 'BRAND_BELONGS_TO_CATEGORY', 'RECEIPTS', 'BRAND_NEW',\n",
       "       'embeddings', 'similarity'],\n",
       "      dtype='object')"
      ]
     },
     "execution_count": 20,
     "metadata": {},
     "output_type": "execute_result"
    }
   ],
   "source": [
    "brand_df.columns"
   ]
  },
  {
   "cell_type": "code",
   "execution_count": 21,
   "metadata": {},
   "outputs": [
    {
     "data": {
      "text/html": [
       "<div>\n",
       "<style scoped>\n",
       "    .dataframe tbody tr th:only-of-type {\n",
       "        vertical-align: middle;\n",
       "    }\n",
       "\n",
       "    .dataframe tbody tr th {\n",
       "        vertical-align: top;\n",
       "    }\n",
       "\n",
       "    .dataframe thead th {\n",
       "        text-align: right;\n",
       "    }\n",
       "</style>\n",
       "<table border=\"1\" class=\"dataframe\">\n",
       "  <thead>\n",
       "    <tr style=\"text-align: right;\">\n",
       "      <th></th>\n",
       "      <th>BRAND</th>\n",
       "      <th>BRAND_BELONGS_TO_CATEGORY</th>\n",
       "    </tr>\n",
       "  </thead>\n",
       "  <tbody>\n",
       "    <tr>\n",
       "      <th>3369</th>\n",
       "      <td>breath savers</td>\n",
       "      <td>Candy</td>\n",
       "    </tr>\n",
       "    <tr>\n",
       "      <th>5678</th>\n",
       "      <td>barkThins</td>\n",
       "      <td>Candy</td>\n",
       "    </tr>\n",
       "    <tr>\n",
       "      <th>3703</th>\n",
       "      <td>Zagnut</td>\n",
       "      <td>Candy</td>\n",
       "    </tr>\n",
       "    <tr>\n",
       "      <th>1138</th>\n",
       "      <td>ZYWIEC</td>\n",
       "      <td>Beer</td>\n",
       "    </tr>\n",
       "    <tr>\n",
       "      <th>9463</th>\n",
       "      <td>ZYRTEC</td>\n",
       "      <td>Medicines &amp; Treatments</td>\n",
       "    </tr>\n",
       "    <tr>\n",
       "      <th>7307</th>\n",
       "      <td>ZWACK SLIVOVITZ</td>\n",
       "      <td>Spirits</td>\n",
       "    </tr>\n",
       "    <tr>\n",
       "      <th>5621</th>\n",
       "      <td>ZUZI</td>\n",
       "      <td>Spirits</td>\n",
       "    </tr>\n",
       "    <tr>\n",
       "      <th>4541</th>\n",
       "      <td>ZUMBIDA</td>\n",
       "      <td>Malt Beverages</td>\n",
       "    </tr>\n",
       "    <tr>\n",
       "      <th>1811</th>\n",
       "      <td>ZUMBA PICA</td>\n",
       "      <td>Cooking &amp; Baking</td>\n",
       "    </tr>\n",
       "    <tr>\n",
       "      <th>9387</th>\n",
       "      <td>ZULKA</td>\n",
       "      <td>Cooking &amp; Baking</td>\n",
       "    </tr>\n",
       "  </tbody>\n",
       "</table>\n",
       "</div>"
      ],
      "text/plain": [
       "                BRAND BRAND_BELONGS_TO_CATEGORY\n",
       "3369    breath savers                     Candy\n",
       "5678        barkThins                     Candy\n",
       "3703           Zagnut                     Candy\n",
       "1138           ZYWIEC                      Beer\n",
       "9463           ZYRTEC    Medicines & Treatments\n",
       "7307  ZWACK SLIVOVITZ                   Spirits\n",
       "5621             ZUZI                   Spirits\n",
       "4541          ZUMBIDA            Malt Beverages\n",
       "1811       ZUMBA PICA          Cooking & Baking\n",
       "9387            ZULKA          Cooking & Baking"
      ]
     },
     "execution_count": 21,
     "metadata": {},
     "output_type": "execute_result"
    }
   ],
   "source": [
    "brand_df[['BRAND', 'BRAND_BELONGS_TO_CATEGORY']].head(10)"
   ]
  },
  {
   "cell_type": "code",
   "execution_count": 4,
   "metadata": {},
   "outputs": [
    {
     "data": {
      "text/html": [
       "<div>\n",
       "<style scoped>\n",
       "    .dataframe tbody tr th:only-of-type {\n",
       "        vertical-align: middle;\n",
       "    }\n",
       "\n",
       "    .dataframe tbody tr th {\n",
       "        vertical-align: top;\n",
       "    }\n",
       "\n",
       "    .dataframe thead th {\n",
       "        text-align: right;\n",
       "    }\n",
       "</style>\n",
       "<table border=\"1\" class=\"dataframe\">\n",
       "  <thead>\n",
       "    <tr style=\"text-align: right;\">\n",
       "      <th></th>\n",
       "      <th>PRODUCT_CATEGORY</th>\n",
       "      <th>IS_CHILD_CATEGORY_TO</th>\n",
       "    </tr>\n",
       "  </thead>\n",
       "  <tbody>\n",
       "    <tr>\n",
       "      <th>0</th>\n",
       "      <td>Red Pasta Sauce</td>\n",
       "      <td>Pasta Sauce</td>\n",
       "    </tr>\n",
       "    <tr>\n",
       "      <th>1</th>\n",
       "      <td>Alfredo &amp; White Pasta Sauce</td>\n",
       "      <td>Pasta Sauce</td>\n",
       "    </tr>\n",
       "    <tr>\n",
       "      <th>2</th>\n",
       "      <td>Cooking &amp; Baking</td>\n",
       "      <td>Pantry</td>\n",
       "    </tr>\n",
       "    <tr>\n",
       "      <th>3</th>\n",
       "      <td>Packaged Seafood</td>\n",
       "      <td>Pantry</td>\n",
       "    </tr>\n",
       "    <tr>\n",
       "      <th>4</th>\n",
       "      <td>Feminine Hygeine</td>\n",
       "      <td>Health &amp; Wellness</td>\n",
       "    </tr>\n",
       "    <tr>\n",
       "      <th>...</th>\n",
       "      <td>...</td>\n",
       "      <td>...</td>\n",
       "    </tr>\n",
       "    <tr>\n",
       "      <th>113</th>\n",
       "      <td>Frozen Turkey</td>\n",
       "      <td>Frozen Meat</td>\n",
       "    </tr>\n",
       "    <tr>\n",
       "      <th>114</th>\n",
       "      <td>Frozen Chicken</td>\n",
       "      <td>Frozen Meat</td>\n",
       "    </tr>\n",
       "    <tr>\n",
       "      <th>115</th>\n",
       "      <td>Frozen Beef</td>\n",
       "      <td>Frozen Meat</td>\n",
       "    </tr>\n",
       "    <tr>\n",
       "      <th>116</th>\n",
       "      <td>Frozen Seafood</td>\n",
       "      <td>Frozen Meat</td>\n",
       "    </tr>\n",
       "    <tr>\n",
       "      <th>117</th>\n",
       "      <td>Gum</td>\n",
       "      <td>Candy</td>\n",
       "    </tr>\n",
       "  </tbody>\n",
       "</table>\n",
       "<p>118 rows × 2 columns</p>\n",
       "</div>"
      ],
      "text/plain": [
       "                PRODUCT_CATEGORY IS_CHILD_CATEGORY_TO\n",
       "0                Red Pasta Sauce          Pasta Sauce\n",
       "1    Alfredo & White Pasta Sauce          Pasta Sauce\n",
       "2               Cooking & Baking               Pantry\n",
       "3               Packaged Seafood               Pantry\n",
       "4               Feminine Hygeine    Health & Wellness\n",
       "..                           ...                  ...\n",
       "113                Frozen Turkey          Frozen Meat\n",
       "114               Frozen Chicken          Frozen Meat\n",
       "115                  Frozen Beef          Frozen Meat\n",
       "116               Frozen Seafood          Frozen Meat\n",
       "117                          Gum                Candy\n",
       "\n",
       "[118 rows x 2 columns]"
      ]
     },
     "execution_count": 4,
     "metadata": {},
     "output_type": "execute_result"
    }
   ],
   "source": [
    "categories = pd.read_csv('data/categories.csv')\n",
    "categories.drop(columns=['CATEGORY_ID'], inplace=True)\n",
    "categories"
   ]
  },
  {
   "cell_type": "code",
   "execution_count": 5,
   "metadata": {},
   "outputs": [
    {
     "data": {
      "text/html": [
       "<div>\n",
       "<style scoped>\n",
       "    .dataframe tbody tr th:only-of-type {\n",
       "        vertical-align: middle;\n",
       "    }\n",
       "\n",
       "    .dataframe tbody tr th {\n",
       "        vertical-align: top;\n",
       "    }\n",
       "\n",
       "    .dataframe thead th {\n",
       "        text-align: right;\n",
       "    }\n",
       "</style>\n",
       "<table border=\"1\" class=\"dataframe\">\n",
       "  <thead>\n",
       "    <tr style=\"text-align: right;\">\n",
       "      <th></th>\n",
       "      <th>OFFER</th>\n",
       "      <th>RETAILER</th>\n",
       "      <th>BRAND</th>\n",
       "    </tr>\n",
       "  </thead>\n",
       "  <tbody>\n",
       "    <tr>\n",
       "      <th>0</th>\n",
       "      <td>Spend $50 on a Full-Priced new Club Membership</td>\n",
       "      <td>SAMS CLUB</td>\n",
       "      <td>SAMS CLUB</td>\n",
       "    </tr>\n",
       "    <tr>\n",
       "      <th>1</th>\n",
       "      <td>Beyond Meat® Plant-Based products, spend $25</td>\n",
       "      <td>NaN</td>\n",
       "      <td>BEYOND MEAT</td>\n",
       "    </tr>\n",
       "    <tr>\n",
       "      <th>2</th>\n",
       "      <td>Good Humor Viennetta Frozen Vanilla Cake</td>\n",
       "      <td>NaN</td>\n",
       "      <td>GOOD HUMOR</td>\n",
       "    </tr>\n",
       "    <tr>\n",
       "      <th>3</th>\n",
       "      <td>Butterball, select varieties, spend $10 at Dillons Food Store</td>\n",
       "      <td>DILLONS FOOD STORE</td>\n",
       "      <td>BUTTERBALL</td>\n",
       "    </tr>\n",
       "    <tr>\n",
       "      <th>4</th>\n",
       "      <td>GATORADE® Fast Twitch®, 12-ounce 12 pack, at Amazon Storefront*</td>\n",
       "      <td>AMAZON</td>\n",
       "      <td>GATORADE</td>\n",
       "    </tr>\n",
       "    <tr>\n",
       "      <th>...</th>\n",
       "      <td>...</td>\n",
       "      <td>...</td>\n",
       "      <td>...</td>\n",
       "    </tr>\n",
       "    <tr>\n",
       "      <th>379</th>\n",
       "      <td>Spend $10 at KFC</td>\n",
       "      <td>KFC</td>\n",
       "      <td>KFC</td>\n",
       "    </tr>\n",
       "    <tr>\n",
       "      <th>380</th>\n",
       "      <td>Sargento Product</td>\n",
       "      <td>NaN</td>\n",
       "      <td>SARGENTO</td>\n",
       "    </tr>\n",
       "    <tr>\n",
       "      <th>381</th>\n",
       "      <td>Thomas'® Bagel Thins</td>\n",
       "      <td>NaN</td>\n",
       "      <td>THOMAS</td>\n",
       "    </tr>\n",
       "    <tr>\n",
       "      <th>382</th>\n",
       "      <td>Spend $270 at Pavilions</td>\n",
       "      <td>PAVILIONS</td>\n",
       "      <td>PAVILIONS</td>\n",
       "    </tr>\n",
       "    <tr>\n",
       "      <th>383</th>\n",
       "      <td>Back to the Roots Soils, select varieties, at Walmart</td>\n",
       "      <td>WALMART</td>\n",
       "      <td>BACK TO THE ROOTS</td>\n",
       "    </tr>\n",
       "  </tbody>\n",
       "</table>\n",
       "<p>384 rows × 3 columns</p>\n",
       "</div>"
      ],
      "text/plain": [
       "                                                               OFFER  \\\n",
       "0                     Spend $50 on a Full-Priced new Club Membership   \n",
       "1                       Beyond Meat® Plant-Based products, spend $25   \n",
       "2                           Good Humor Viennetta Frozen Vanilla Cake   \n",
       "3      Butterball, select varieties, spend $10 at Dillons Food Store   \n",
       "4    GATORADE® Fast Twitch®, 12-ounce 12 pack, at Amazon Storefront*   \n",
       "..                                                               ...   \n",
       "379                                                 Spend $10 at KFC   \n",
       "380                                                 Sargento Product   \n",
       "381                                             Thomas'® Bagel Thins   \n",
       "382                                          Spend $270 at Pavilions   \n",
       "383            Back to the Roots Soils, select varieties, at Walmart   \n",
       "\n",
       "               RETAILER              BRAND  \n",
       "0             SAMS CLUB          SAMS CLUB  \n",
       "1                   NaN        BEYOND MEAT  \n",
       "2                   NaN         GOOD HUMOR  \n",
       "3    DILLONS FOOD STORE         BUTTERBALL  \n",
       "4                AMAZON           GATORADE  \n",
       "..                  ...                ...  \n",
       "379                 KFC                KFC  \n",
       "380                 NaN           SARGENTO  \n",
       "381                 NaN             THOMAS  \n",
       "382           PAVILIONS          PAVILIONS  \n",
       "383             WALMART  BACK TO THE ROOTS  \n",
       "\n",
       "[384 rows x 3 columns]"
      ]
     },
     "execution_count": 5,
     "metadata": {},
     "output_type": "execute_result"
    }
   ],
   "source": [
    "offers = pd.read_csv('data/offer_retailer.csv')\n",
    "offers"
   ]
  },
  {
   "cell_type": "code",
   "execution_count": 6,
   "metadata": {},
   "outputs": [],
   "source": [
    "def mean_pooling(model_output, attention_mask):\n",
    "    token_embeddings = model_output[0] #First element of model_output contains all token embeddings\n",
    "    input_mask_expanded = attention_mask.unsqueeze(-1).expand(token_embeddings.size()).float()\n",
    "    return torch.sum(token_embeddings * input_mask_expanded, 1) / torch.clamp(input_mask_expanded.sum(1), min=1e-9)\n",
    "\n",
    "def get_embeddings(df, text_col, model, tokenizer):\n",
    "    model.eval()\n",
    "    encoded_input = tokenizer(list(df[text_col]), padding=True, truncation=True, return_tensors='pt')\n",
    "    with torch.no_grad():\n",
    "        model_output = model(**encoded_input)\n",
    "    sentence_embeddings = mean_pooling(model_output, encoded_input['attention_mask'])\n",
    "    sentence_embeddings = torch.nn.functional.normalize(sentence_embeddings, p=2, dim=1)\n",
    "    return df.assign(embeddings=sentence_embeddings.tolist())"
   ]
  },
  {
   "cell_type": "code",
   "execution_count": 7,
   "metadata": {},
   "outputs": [],
   "source": [
    "offers = offers.merge(brand_df, on='BRAND', how='left').merge(categories, left_on='BRAND_BELONGS_TO_CATEGORY', right_on='PRODUCT_CATEGORY', how='left')\n",
    "offers.replace(np.nan, '',inplace=True)\n",
    "offers['offer_brand_category'] = offers['OFFER'] + ' ' + offers['BRAND']+ ' ' + offers['PRODUCT_CATEGORY']\n",
    "offers = get_embeddings(offers, 'offer_brand_category', embedding_model, embedding_tokenizer)\n",
    "categories = get_embeddings(categories, 'PRODUCT_CATEGORY', embedding_model, embedding_tokenizer)\n",
    "brand_df['BRAND_NEW'] = brand_df['BRAND'] + ' ' + brand_df['BRAND_BELONGS_TO_CATEGORY']\n",
    "brand_df = get_embeddings(brand_df, 'BRAND_NEW', embedding_model, embedding_tokenizer)"
   ]
  },
  {
   "cell_type": "code",
   "execution_count": 8,
   "metadata": {},
   "outputs": [],
   "source": [
    "def get_topn_similar(text, df):\n",
    "    text_embedding = get_embeddings(pd.DataFrame({'OFFER': [text]}), 'OFFER', embedding_model, embedding_tokenizer)['embeddings'].values[0]\n",
    "    df['similarity'] = df['embeddings'].apply(lambda x: np.dot(x, text_embedding))\n",
    "    return df.sort_values(by='similarity', ascending=False).head(10)"
   ]
  },
  {
   "cell_type": "code",
   "execution_count": 9,
   "metadata": {},
   "outputs": [],
   "source": [
    "shit = get_topn_similar('window curtains', offers)[['OFFER','RETAILER','BRAND','similarity']]"
   ]
  },
  {
   "cell_type": "code",
   "execution_count": 14,
   "metadata": {},
   "outputs": [
    {
     "name": "stdout",
     "output_type": "stream",
     "text": [
      "shit\n"
     ]
    }
   ],
   "source": [
    "if len(shit)>0:\n",
    "    print('shit')"
   ]
  },
  {
   "cell_type": "code",
   "execution_count": 16,
   "metadata": {},
   "outputs": [
    {
     "data": {
      "text/html": [
       "<div>\n",
       "<style scoped>\n",
       "    .dataframe tbody tr th:only-of-type {\n",
       "        vertical-align: middle;\n",
       "    }\n",
       "\n",
       "    .dataframe tbody tr th {\n",
       "        vertical-align: top;\n",
       "    }\n",
       "\n",
       "    .dataframe thead th {\n",
       "        text-align: right;\n",
       "    }\n",
       "</style>\n",
       "<table border=\"1\" class=\"dataframe\">\n",
       "  <thead>\n",
       "    <tr style=\"text-align: right;\">\n",
       "      <th></th>\n",
       "      <th>PRODUCT_CATEGORY</th>\n",
       "      <th>similarity</th>\n",
       "    </tr>\n",
       "  </thead>\n",
       "  <tbody>\n",
       "    <tr>\n",
       "      <th>37</th>\n",
       "      <td>Diapering</td>\n",
       "      <td>0.803998</td>\n",
       "    </tr>\n",
       "    <tr>\n",
       "      <th>102</th>\n",
       "      <td>Adult Incontinence</td>\n",
       "      <td>0.489961</td>\n",
       "    </tr>\n",
       "    <tr>\n",
       "      <th>22</th>\n",
       "      <td>Baby Bathing</td>\n",
       "      <td>0.487685</td>\n",
       "    </tr>\n",
       "    <tr>\n",
       "      <th>79</th>\n",
       "      <td>Laundry Supplies</td>\n",
       "      <td>0.470841</td>\n",
       "    </tr>\n",
       "    <tr>\n",
       "      <th>73</th>\n",
       "      <td>Eggs</td>\n",
       "      <td>0.463667</td>\n",
       "    </tr>\n",
       "    <tr>\n",
       "      <th>97</th>\n",
       "      <td>Fruit Juices</td>\n",
       "      <td>0.454788</td>\n",
       "    </tr>\n",
       "    <tr>\n",
       "      <th>49</th>\n",
       "      <td>Milk</td>\n",
       "      <td>0.445963</td>\n",
       "    </tr>\n",
       "    <tr>\n",
       "      <th>46</th>\n",
       "      <td>Puffed Snacks</td>\n",
       "      <td>0.441153</td>\n",
       "    </tr>\n",
       "    <tr>\n",
       "      <th>101</th>\n",
       "      <td>Baby Health</td>\n",
       "      <td>0.438396</td>\n",
       "    </tr>\n",
       "    <tr>\n",
       "      <th>27</th>\n",
       "      <td>Potty Training</td>\n",
       "      <td>0.431855</td>\n",
       "    </tr>\n",
       "  </tbody>\n",
       "</table>\n",
       "</div>"
      ],
      "text/plain": [
       "       PRODUCT_CATEGORY  similarity\n",
       "37            Diapering    0.803998\n",
       "102  Adult Incontinence    0.489961\n",
       "22         Baby Bathing    0.487685\n",
       "79     Laundry Supplies    0.470841\n",
       "73                 Eggs    0.463667\n",
       "97         Fruit Juices    0.454788\n",
       "49                 Milk    0.445963\n",
       "46        Puffed Snacks    0.441153\n",
       "101         Baby Health    0.438396\n",
       "27       Potty Training    0.431855"
      ]
     },
     "execution_count": 16,
     "metadata": {},
     "output_type": "execute_result"
    }
   ],
   "source": [
    "\n",
    "get_topn_similar('diapers', categories)[['PRODUCT_CATEGORY','similarity']]"
   ]
  },
  {
   "cell_type": "code",
   "execution_count": 17,
   "metadata": {},
   "outputs": [
    {
     "data": {
      "text/html": [
       "<div>\n",
       "<style scoped>\n",
       "    .dataframe tbody tr th:only-of-type {\n",
       "        vertical-align: middle;\n",
       "    }\n",
       "\n",
       "    .dataframe tbody tr th {\n",
       "        vertical-align: top;\n",
       "    }\n",
       "\n",
       "    .dataframe thead th {\n",
       "        text-align: right;\n",
       "    }\n",
       "</style>\n",
       "<table border=\"1\" class=\"dataframe\">\n",
       "  <thead>\n",
       "    <tr style=\"text-align: right;\">\n",
       "      <th></th>\n",
       "      <th>BRAND</th>\n",
       "      <th>BRAND_BELONGS_TO_CATEGORY</th>\n",
       "      <th>RECEIPTS</th>\n",
       "      <th>similarity</th>\n",
       "    </tr>\n",
       "  </thead>\n",
       "  <tbody>\n",
       "    <tr>\n",
       "      <th>568</th>\n",
       "      <td>PAMPERS</td>\n",
       "      <td>Diapering</td>\n",
       "      <td>3869</td>\n",
       "      <td>0.826400</td>\n",
       "    </tr>\n",
       "    <tr>\n",
       "      <th>7907</th>\n",
       "      <td>NEST</td>\n",
       "      <td>Diapering</td>\n",
       "      <td>21</td>\n",
       "      <td>0.652806</td>\n",
       "    </tr>\n",
       "    <tr>\n",
       "      <th>9099</th>\n",
       "      <td>ONE BY POISE</td>\n",
       "      <td>Adult Incontinence</td>\n",
       "      <td>14</td>\n",
       "      <td>0.528623</td>\n",
       "    </tr>\n",
       "    <tr>\n",
       "      <th>112</th>\n",
       "      <td>WET ONES</td>\n",
       "      <td>Bath &amp; Body</td>\n",
       "      <td>19489</td>\n",
       "      <td>0.506636</td>\n",
       "    </tr>\n",
       "    <tr>\n",
       "      <th>937</th>\n",
       "      <td>POISE</td>\n",
       "      <td>Adult Incontinence</td>\n",
       "      <td>2008</td>\n",
       "      <td>0.504477</td>\n",
       "    </tr>\n",
       "    <tr>\n",
       "      <th>2620</th>\n",
       "      <td>BABYGANICS</td>\n",
       "      <td>Household Supplies</td>\n",
       "      <td>308</td>\n",
       "      <td>0.500420</td>\n",
       "    </tr>\n",
       "    <tr>\n",
       "      <th>2006</th>\n",
       "      <td>JOHNSONS</td>\n",
       "      <td>Baby Bathing</td>\n",
       "      <td>519</td>\n",
       "      <td>0.465809</td>\n",
       "    </tr>\n",
       "    <tr>\n",
       "      <th>6005</th>\n",
       "      <td>DR BROWN'S</td>\n",
       "      <td>Baby Bathing</td>\n",
       "      <td>44</td>\n",
       "      <td>0.458393</td>\n",
       "    </tr>\n",
       "    <tr>\n",
       "      <th>2828</th>\n",
       "      <td>NANIT</td>\n",
       "      <td>Baby Bathing</td>\n",
       "      <td>262</td>\n",
       "      <td>0.456417</td>\n",
       "    </tr>\n",
       "    <tr>\n",
       "      <th>2467</th>\n",
       "      <td>POPPERS</td>\n",
       "      <td>Puffed Snacks</td>\n",
       "      <td>347</td>\n",
       "      <td>0.454431</td>\n",
       "    </tr>\n",
       "  </tbody>\n",
       "</table>\n",
       "</div>"
      ],
      "text/plain": [
       "             BRAND BRAND_BELONGS_TO_CATEGORY  RECEIPTS  similarity\n",
       "568        PAMPERS                 Diapering      3869    0.826400\n",
       "7907          NEST                 Diapering        21    0.652806\n",
       "9099  ONE BY POISE        Adult Incontinence        14    0.528623\n",
       "112       WET ONES               Bath & Body     19489    0.506636\n",
       "937          POISE        Adult Incontinence      2008    0.504477\n",
       "2620    BABYGANICS        Household Supplies       308    0.500420\n",
       "2006      JOHNSONS              Baby Bathing       519    0.465809\n",
       "6005    DR BROWN'S              Baby Bathing        44    0.458393\n",
       "2828         NANIT              Baby Bathing       262    0.456417\n",
       "2467       POPPERS             Puffed Snacks       347    0.454431"
      ]
     },
     "execution_count": 17,
     "metadata": {},
     "output_type": "execute_result"
    }
   ],
   "source": [
    "get_topn_similar('diapers', brand_df)[['BRAND','BRAND_BELONGS_TO_CATEGORY', 'RECEIPTS','similarity']]"
   ]
  },
  {
   "cell_type": "code",
   "execution_count": 13,
   "metadata": {},
   "outputs": [],
   "source": [
    "offers.to_csv('data/offers_embeddings.csv', index=False)\n",
    "categories.to_csv('data/categories_embeddings.csv', index=False)\n",
    "brand_df.to_csv('data/brand_embeddings.csv', index=False)"
   ]
  },
  {
   "cell_type": "code",
   "execution_count": 27,
   "metadata": {},
   "outputs": [
    {
     "data": {
      "text/plain": [
       "37    Baby & Toddler\n",
       "Name: IS_CHILD_CATEGORY_TO, dtype: object"
      ]
     },
     "execution_count": 27,
     "metadata": {},
     "output_type": "execute_result"
    }
   ],
   "source": [
    "categories[categories['PRODUCT_CATEGORY']=='Diapering']['IS_CHILD_CATEGORY_TO']"
   ]
  },
  {
   "cell_type": "code",
   "execution_count": 28,
   "metadata": {},
   "outputs": [
    {
     "data": {
      "text/plain": [
       "Series([], Name: OFFER, dtype: object)"
      ]
     },
     "execution_count": 28,
     "metadata": {},
     "output_type": "execute_result"
    }
   ],
   "source": [
    "offers[offers['IS_CHILD_CATEGORY_TO']=='Baby & Toddler']['OFFER']"
   ]
  },
  {
   "cell_type": "code",
   "execution_count": 72,
   "metadata": {},
   "outputs": [
    {
     "data": {
      "text/plain": [
       "568         PAMPERS\n",
       "1585        HUGGIES\n",
       "1913         HONEST\n",
       "3868           LUVS\n",
       "5191    HELLO BELLO\n",
       "7907           NEST\n",
       "Name: BRAND, dtype: object"
      ]
     },
     "execution_count": 72,
     "metadata": {},
     "output_type": "execute_result"
    }
   ],
   "source": [
    "brand_df[brand_df['BRAND_BELONGS_TO_CATEGORY']=='Diapering']['BRAND']"
   ]
  },
  {
   "cell_type": "code",
   "execution_count": null,
   "metadata": {},
   "outputs": [],
   "source": []
  },
  {
   "cell_type": "code",
   "execution_count": 19,
   "metadata": {},
   "outputs": [],
   "source": [
    "def has_unique_digits(num):\n",
    "    str_num = str(num)\n",
    "    return len(str_num) == len(set(str_num))\n",
    "\n",
    "def count_unique_numbers(n, m):\n",
    "    return sum(1 for i in range(n, m+1) if has_unique_digits(i))\n",
    "\n",
    "def countNumbers(arr):\n",
    "   return [count_unique_numbers(i[0],i[1]) for i in arr]"
   ]
  },
  {
   "cell_type": "code",
   "execution_count": 20,
   "metadata": {},
   "outputs": [
    {
     "data": {
      "text/plain": [
       "[19, 10]"
      ]
     },
     "execution_count": 20,
     "metadata": {},
     "output_type": "execute_result"
    }
   ],
   "source": [
    "countSum([[1,20],[9,19]])"
   ]
  },
  {
   "cell_type": "code",
   "execution_count": 18,
   "metadata": {},
   "outputs": [
    {
     "name": "stdout",
     "output_type": "stream",
     "text": [
      "1 20\n",
      "9 19\n"
     ]
    }
   ],
   "source": [
    "for i in [[1,20],[9,19]]:\n",
    "    print(*i)"
   ]
  },
  {
   "cell_type": "code",
   "execution_count": null,
   "metadata": {},
   "outputs": [],
   "source": []
  }
 ],
 "metadata": {
  "kernelspec": {
   "display_name": "ml",
   "language": "python",
   "name": "python3"
  },
  "language_info": {
   "codemirror_mode": {
    "name": "ipython",
    "version": 3
   },
   "file_extension": ".py",
   "mimetype": "text/x-python",
   "name": "python",
   "nbconvert_exporter": "python",
   "pygments_lexer": "ipython3",
   "version": "3.9.18"
  }
 },
 "nbformat": 4,
 "nbformat_minor": 2
}
